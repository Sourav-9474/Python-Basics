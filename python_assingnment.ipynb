{
  "nbformat": 4,
  "nbformat_minor": 0,
  "metadata": {
    "colab": {
      "provenance": []
    },
    "kernelspec": {
      "name": "python3",
      "display_name": "Python 3"
    },
    "language_info": {
      "name": "python"
    }
  },
  "cells": [
    {
      "cell_type": "markdown",
      "source": [
        "Python Basics Questions"
      ],
      "metadata": {
        "id": "VpB-fncouBEa"
      }
    },
    {
      "cell_type": "markdown",
      "source": [
        "1. What is Python, and why is it popular?\n",
        "\n",
        " -  Python is a high-level, interpreted programming language known for its simplicity and readability. It is popular due to its easy syntax, vast libraries, strong community support, and versatility in web development, data science, AI, automation, and more.\n",
        "\n",
        "2. What is an interpreter in Python?\n",
        " -   An interpreter is a program that executes Python code line by line, converting it into machine code at runtime. This allows for easier debugging and faster development. Python uses an interpreter rather than a compiler.\n",
        "\n",
        "3. What are pre-defined keywords in Python?\n",
        " -   Pre-defined keywords are reserved words in Python that have special meanings and cannot be used as variable names. Examples include if, else, while, for, def, return, class, import, True, False, and None.\n",
        "\n",
        "4. Can keywords be used as variable names?\n",
        " -   No, keywords cannot be used as variable names because they have predefined meanings in Python and are used for specific functions in the language.\n",
        "\n",
        "5. What is mutability in Python?\n",
        " -   Mutability refers to whether an object can be changed after it is created. Mutable objects can be modified (e.g., lists, dictionaries, sets), while immutable objects cannot be changed (e.g., tuples, strings, integers).\n",
        "\n",
        "6. Why are lists mutable, but tuples are immutable?\n",
        " -   Lists are mutable because they allow modifications such as adding, removing, or changing elements. Tuples, on the other hand, are immutable because they are designed for fixed collections of data, ensuring data integrity and optimization.\n",
        "\n",
        "7. What is the difference between “==” and “is” operators in Python?\n",
        " -    '==' checks for value equality (i.e., whether two variables have the same\n",
        " value).\n",
        "\n",
        "      'is' checks for identity equality (i.e., whether two variables refer to the same memory location).\n",
        "\n",
        "\n"
      ],
      "metadata": {
        "id": "3aVR5Dw2uLDr"
      }
    },
    {
      "cell_type": "code",
      "execution_count": null,
      "metadata": {
        "colab": {
          "base_uri": "https://localhost:8080/"
        },
        "id": "VJvpHLv_t6yp",
        "outputId": "a15697ac-40ae-434c-9b6c-cf9bffa5c8a0"
      },
      "outputs": [
        {
          "output_type": "stream",
          "name": "stdout",
          "text": [
            "True\n",
            "False\n"
          ]
        }
      ],
      "source": [
        "# Example\n",
        "a = [1, 2, 3]\n",
        "b = [1, 2, 3]\n",
        "print(a == b)  # True (values are the same)\n",
        "print(a is b)  # False (different memory locations)"
      ]
    },
    {
      "cell_type": "markdown",
      "source": [
        "8. What are logical operators in Python?\n",
        "-     Logical operators are used to perform logical operations:\n",
        "\n",
        "      and → Returns True if both conditions are True.\n",
        "\n",
        "      or → Returns True if at least one condition is True.\n",
        "      \n",
        "      not → Reverses the Boolean value."
      ],
      "metadata": {
        "id": "LEKjMNiz3kIm"
      }
    },
    {
      "cell_type": "code",
      "source": [
        "# Example\n",
        "x = True\n",
        "y = False\n",
        "print(x and y)  # False\n",
        "print(x or y)   # True\n",
        "print(not x)    # False"
      ],
      "metadata": {
        "colab": {
          "base_uri": "https://localhost:8080/"
        },
        "id": "fSgWK8X34S5O",
        "outputId": "47e06ae8-640c-4388-f4e1-cad721b3a211"
      },
      "execution_count": null,
      "outputs": [
        {
          "output_type": "stream",
          "name": "stdout",
          "text": [
            "False\n",
            "True\n",
            "False\n"
          ]
        }
      ]
    },
    {
      "cell_type": "markdown",
      "source": [
        "9. What is type casting in Python?\n",
        " -   Type casting (or type conversion) is the process of converting one data type into another. It can be implicit (automatic) or explicit (manual)."
      ],
      "metadata": {
        "id": "bzg0lL1l40XJ"
      }
    },
    {
      "cell_type": "code",
      "source": [
        "# Explicit type casting\n",
        "x = \"123\"\n",
        "y = int(x)  # Converts string to integer\n",
        "print(y)\n",
        "\n",
        "# Implicit type casting\n",
        "a = 10\n",
        "b = 2.5\n",
        "c = a + b  # Converts integer to float automatically\n",
        "print(c)"
      ],
      "metadata": {
        "colab": {
          "base_uri": "https://localhost:8080/"
        },
        "id": "CGYjHAIz5dzt",
        "outputId": "21ec4478-97a7-4fd4-9891-c6580d345dce"
      },
      "execution_count": null,
      "outputs": [
        {
          "output_type": "stream",
          "name": "stdout",
          "text": [
            "123\n",
            "12.5\n"
          ]
        }
      ]
    },
    {
      "cell_type": "markdown",
      "source": [
        "10. What is the difference between implicit and explicit type casting?\n",
        " -     Implicit type casting is done automatically by Python when a smaller data type is converted into a larger one (e.g., int to float).\n",
        "\n",
        "       Explicit type casting requires the programmer to manually convert one data type to another using functions like int(), float(), str(), etc."
      ],
      "metadata": {
        "id": "0S74vK5g5939"
      }
    },
    {
      "cell_type": "markdown",
      "source": [
        "11. What is the purpose of conditional statements in Python?\n",
        " -      Conditional statements allow decision-making in programs by executing different code blocks based on conditions. Examples include if, elif, and else statements."
      ],
      "metadata": {
        "id": "yiV5AQ-16pF1"
      }
    },
    {
      "cell_type": "code",
      "source": [
        "# Example\n",
        "x = 10\n",
        "if x > 5:\n",
        "    print(\"Greater than 5\")\n",
        "elif x == 5:\n",
        "    print(\"Equal to 5\")\n",
        "else:\n",
        "    print(\"Less than 5\")"
      ],
      "metadata": {
        "colab": {
          "base_uri": "https://localhost:8080/"
        },
        "id": "M9D8zknI8I2_",
        "outputId": "c0daf489-3c4a-4632-885a-c09d88f1bacc"
      },
      "execution_count": null,
      "outputs": [
        {
          "output_type": "stream",
          "name": "stdout",
          "text": [
            "Greater than 5\n"
          ]
        }
      ]
    },
    {
      "cell_type": "markdown",
      "source": [
        "12. How does the elif statement work?\n",
        " -     The elif (short for \"else if\") statement checks additional conditions if the previous if condition was False. It prevents the need for multiple if statements."
      ],
      "metadata": {
        "id": "p1dxZLRa8WpE"
      }
    },
    {
      "cell_type": "code",
      "source": [
        "# Example\n",
        "num = 10\n",
        "if num > 10:\n",
        "    print(\"Greater than 10\")\n",
        "elif num == 10:\n",
        "    print(\"Equal to 10\")\n",
        "else:\n",
        "    print(\"Less than 10\")"
      ],
      "metadata": {
        "colab": {
          "base_uri": "https://localhost:8080/"
        },
        "id": "6cWO0mwU8tmQ",
        "outputId": "8ab5b120-abda-4ec9-9ff5-bd031d10d0be"
      },
      "execution_count": null,
      "outputs": [
        {
          "output_type": "stream",
          "name": "stdout",
          "text": [
            "Equal to 10\n"
          ]
        }
      ]
    },
    {
      "cell_type": "markdown",
      "source": [
        "13. What is the difference between for and while loops?\n",
        " -     for loop is used when the number of iterations is known.\n",
        "       \n",
        "       while loop is used when the number of iterations is unknown and depends on a condition."
      ],
      "metadata": {
        "id": "thp2cNV39I32"
      }
    },
    {
      "cell_type": "code",
      "source": [
        "# Example\n",
        "# For loop\n",
        "for i in range(5):\n",
        "    print(i)\n",
        "\n",
        "# While loop\n",
        "x = 0\n",
        "while x < 5:\n",
        "    print(x)\n",
        "    x += 1"
      ],
      "metadata": {
        "colab": {
          "base_uri": "https://localhost:8080/"
        },
        "id": "Gz3CY08J9ewp",
        "outputId": "c97977d7-25b4-44ca-9612-65953ce586ac"
      },
      "execution_count": null,
      "outputs": [
        {
          "output_type": "stream",
          "name": "stdout",
          "text": [
            "0\n",
            "1\n",
            "2\n",
            "3\n",
            "4\n",
            "0\n",
            "1\n",
            "2\n",
            "3\n",
            "4\n"
          ]
        }
      ]
    },
    {
      "cell_type": "markdown",
      "source": [
        "14. Describe a scenario where a while loop is more suitable than a for loop?\n",
        " -      A while loop is better when the number of iterations is not known in advance, such as waiting for user input or processing data until a condition is met."
      ],
      "metadata": {
        "id": "t3rUS-f_94ZU"
      }
    },
    {
      "cell_type": "code",
      "source": [
        "# Example\n",
        "password = \"\"\n",
        "while password != \"secret\":\n",
        "    password = input(\"Enter password: \")\n",
        "print(\"Access granted\")"
      ],
      "metadata": {
        "colab": {
          "base_uri": "https://localhost:8080/"
        },
        "id": "JvJq6FMu-nRf",
        "outputId": "e0bf9fbd-0f2c-461d-c104-1c9ad6abf7b3"
      },
      "execution_count": null,
      "outputs": [
        {
          "output_type": "stream",
          "name": "stdout",
          "text": [
            "Enter password: secrect\n",
            "Enter password: sourav\n",
            "Enter password: secret\n",
            "Access granted\n"
          ]
        }
      ]
    },
    {
      "cell_type": "markdown",
      "source": [
        "Practical Questions:"
      ],
      "metadata": {
        "id": "m5A5ihjw7Jiw"
      }
    },
    {
      "cell_type": "code",
      "source": [
        "# 1. Write a Python program to print \"Hello, World!\".\n",
        "print(\"Hellow,World!\")"
      ],
      "metadata": {
        "colab": {
          "base_uri": "https://localhost:8080/"
        },
        "id": "eWjXft5O7P9M",
        "outputId": "fc1c2788-bf15-4255-95bf-a61ddf565b91"
      },
      "execution_count": 1,
      "outputs": [
        {
          "output_type": "stream",
          "name": "stdout",
          "text": [
            "Hellow,World!\n"
          ]
        }
      ]
    },
    {
      "cell_type": "code",
      "source": [
        "# 2.  Write a Python program that displays your name and age.\n",
        "Name=input(\"Enter your name:\")\n",
        "Age=input(\"Enter your age:\")\n",
        "print(\"Name:\",Name)\n",
        "print(\"Age:\",Age)"
      ],
      "metadata": {
        "colab": {
          "base_uri": "https://localhost:8080/"
        },
        "id": "IL4l61us7h-n",
        "outputId": "ef90e712-593b-47ca-aec2-aa5c98c1cd3e"
      },
      "execution_count": 2,
      "outputs": [
        {
          "output_type": "stream",
          "name": "stdout",
          "text": [
            "Enter your name:Sourav Chanda\n",
            "Enter your age:30\n",
            "Name: Sourav Chanda\n",
            "Age: 30\n"
          ]
        }
      ]
    },
    {
      "cell_type": "code",
      "source": [
        "# 3.  Write code to print all the pre-defined keywords in Python using the keyword library.\n",
        "import keyword\n",
        "print(keyword.kwlist)"
      ],
      "metadata": {
        "colab": {
          "base_uri": "https://localhost:8080/"
        },
        "id": "sOUl6Rvz86sx",
        "outputId": "fc3c1b86-ecfe-4be1-b575-83d9d5ebe4f2"
      },
      "execution_count": 8,
      "outputs": [
        {
          "output_type": "stream",
          "name": "stdout",
          "text": [
            "['False', 'None', 'True', 'and', 'as', 'assert', 'async', 'await', 'break', 'class', 'continue', 'def', 'del', 'elif', 'else', 'except', 'finally', 'for', 'from', 'global', 'if', 'import', 'in', 'is', 'lambda', 'nonlocal', 'not', 'or', 'pass', 'raise', 'return', 'try', 'while', 'with', 'yield']\n"
          ]
        }
      ]
    },
    {
      "cell_type": "code",
      "source": [
        "# 4.  Write a program that checks if a given word is a Python keyword.\n",
        "import keyword\n",
        "word=input(\"Ente a word:\")\n",
        "if keyword.iskeyword(word):\n",
        "  print(word,\"is python keyword\")\n",
        "else:\n",
        "  print(word,\"is not python keyword\")\n"
      ],
      "metadata": {
        "colab": {
          "base_uri": "https://localhost:8080/"
        },
        "id": "16qAbDlE9Fov",
        "outputId": "d3868660-b6ca-4496-f4a4-4717dd1e372d"
      },
      "execution_count": 10,
      "outputs": [
        {
          "output_type": "stream",
          "name": "stdout",
          "text": [
            "Ente a word:class\n",
            "class is python keyword\n"
          ]
        }
      ]
    },
    {
      "cell_type": "code",
      "source": [
        "# 5.  Create a list and tuple in Python, and demonstrate how attempting to change an element works differently for each.\n",
        "my_list=[1,2,3,4,5]\n",
        "print(\"My orginal list:\",my_list)\n",
        "my_tuple=(1,2,3,4,5)\n",
        "print(\"my orginal tuple:\",my_tuple)\n",
        "my_list[0]=12\n",
        "print(\"My Modified list:\",my_list)\n",
        "my_tuple[0]=12 # throw an Error, because 'tuple' does not support item assingnment.\n",
        "print(\"My Modified list:\",my_tuple)"
      ],
      "metadata": {
        "colab": {
          "base_uri": "https://localhost:8080/",
          "height": 245
        },
        "id": "pfD-LJeS996B",
        "outputId": "c727b8d4-f399-44af-cf9d-f30c3226842e"
      },
      "execution_count": 14,
      "outputs": [
        {
          "output_type": "stream",
          "name": "stdout",
          "text": [
            "My orginal list: [1, 2, 3, 4, 5]\n",
            "my orginal tuple: (1, 2, 3, 4, 5)\n",
            "My Modified list: [12, 2, 3, 4, 5]\n"
          ]
        },
        {
          "output_type": "error",
          "ename": "TypeError",
          "evalue": "'tuple' object does not support item assignment",
          "traceback": [
            "\u001b[0;31m---------------------------------------------------------------------------\u001b[0m",
            "\u001b[0;31mTypeError\u001b[0m                                 Traceback (most recent call last)",
            "\u001b[0;32m<ipython-input-14-31af6ae40628>\u001b[0m in \u001b[0;36m<cell line: 0>\u001b[0;34m()\u001b[0m\n\u001b[1;32m      6\u001b[0m \u001b[0mmy_list\u001b[0m\u001b[0;34m[\u001b[0m\u001b[0;36m0\u001b[0m\u001b[0;34m]\u001b[0m\u001b[0;34m=\u001b[0m\u001b[0;36m12\u001b[0m\u001b[0;34m\u001b[0m\u001b[0;34m\u001b[0m\u001b[0m\n\u001b[1;32m      7\u001b[0m \u001b[0mprint\u001b[0m\u001b[0;34m(\u001b[0m\u001b[0;34m\"My Modified list:\"\u001b[0m\u001b[0;34m,\u001b[0m\u001b[0mmy_list\u001b[0m\u001b[0;34m)\u001b[0m\u001b[0;34m\u001b[0m\u001b[0;34m\u001b[0m\u001b[0m\n\u001b[0;32m----> 8\u001b[0;31m \u001b[0mmy_tuple\u001b[0m\u001b[0;34m[\u001b[0m\u001b[0;36m0\u001b[0m\u001b[0;34m]\u001b[0m\u001b[0;34m=\u001b[0m\u001b[0;36m12\u001b[0m\u001b[0;34m\u001b[0m\u001b[0;34m\u001b[0m\u001b[0m\n\u001b[0m\u001b[1;32m      9\u001b[0m \u001b[0mprint\u001b[0m\u001b[0;34m(\u001b[0m\u001b[0;34m\"My Modified list:\"\u001b[0m\u001b[0;34m,\u001b[0m\u001b[0mmy_tuple\u001b[0m\u001b[0;34m)\u001b[0m\u001b[0;34m\u001b[0m\u001b[0;34m\u001b[0m\u001b[0m\n",
            "\u001b[0;31mTypeError\u001b[0m: 'tuple' object does not support item assignment"
          ]
        }
      ]
    },
    {
      "cell_type": "code",
      "source": [
        "# 6. Write a function to demonstrate the behavior of mutable and immutable arguments.\n",
        "# for mutable argument.\n",
        "my_list=[1,2,\"sourav\",\"Pwskill\",]\n",
        "print(\"My orginal list:\",my_list)\n",
        "my_list.append(\"Chanda\")\n",
        "print(\"My Modified list 1:\",my_list)\n",
        "my_list[0]=10\n",
        "print(\"My Modified list 2:\",my_list)\n",
        "my_list.remove(\"Pwskill\")\n",
        "print(\"My Modified list 3:\",my_list)\n",
        "my_list.insert(2,\"Ajay\")\n",
        "print(\"My Modified list 4:\",my_list)\n",
        "\n",
        "# for immutable argument.\n",
        "my_tuple=(1,2,\"sourav\",\"Pwskill\")\n",
        "print(\"My orginal tuple:\",my_tuple)\n",
        "my_tuple[0]=10   # throw an Error,because 'tuple' does not support item assingnment.\n",
        "print(\"My Modified Tuple 2:\",my_tuple)\n"
      ],
      "metadata": {
        "colab": {
          "base_uri": "https://localhost:8080/",
          "height": 297
        },
        "id": "0WI6m0GxAOmM",
        "outputId": "3a66480a-237c-4726-f5a4-06af603c5f0b"
      },
      "execution_count": 20,
      "outputs": [
        {
          "output_type": "stream",
          "name": "stdout",
          "text": [
            "My orginal list: [1, 2, 'sourav', 'Pwskill']\n",
            "My Modified list 1: [1, 2, 'sourav', 'Pwskill', 'Chanda']\n",
            "My Modified list 2: [10, 2, 'sourav', 'Pwskill', 'Chanda']\n",
            "My Modified list 3: [10, 2, 'sourav', 'Chanda']\n",
            "My Modified list 4: [10, 2, 'Ajay', 'sourav', 'Chanda']\n",
            "My orginal tuple: (1, 2, 'sourav', 'Pwskill')\n"
          ]
        },
        {
          "output_type": "error",
          "ename": "TypeError",
          "evalue": "'tuple' object does not support item assignment",
          "traceback": [
            "\u001b[0;31m---------------------------------------------------------------------------\u001b[0m",
            "\u001b[0;31mTypeError\u001b[0m                                 Traceback (most recent call last)",
            "\u001b[0;32m<ipython-input-20-3310f594f285>\u001b[0m in \u001b[0;36m<cell line: 0>\u001b[0;34m()\u001b[0m\n\u001b[1;32m     15\u001b[0m \u001b[0mmy_tuple\u001b[0m\u001b[0;34m=\u001b[0m\u001b[0;34m(\u001b[0m\u001b[0;36m1\u001b[0m\u001b[0;34m,\u001b[0m\u001b[0;36m2\u001b[0m\u001b[0;34m,\u001b[0m\u001b[0;34m\"sourav\"\u001b[0m\u001b[0;34m,\u001b[0m\u001b[0;34m\"Pwskill\"\u001b[0m\u001b[0;34m)\u001b[0m\u001b[0;34m\u001b[0m\u001b[0;34m\u001b[0m\u001b[0m\n\u001b[1;32m     16\u001b[0m \u001b[0mprint\u001b[0m\u001b[0;34m(\u001b[0m\u001b[0;34m\"My orginal tuple:\"\u001b[0m\u001b[0;34m,\u001b[0m\u001b[0mmy_tuple\u001b[0m\u001b[0;34m)\u001b[0m\u001b[0;34m\u001b[0m\u001b[0;34m\u001b[0m\u001b[0m\n\u001b[0;32m---> 17\u001b[0;31m \u001b[0mmy_tuple\u001b[0m\u001b[0;34m[\u001b[0m\u001b[0;36m0\u001b[0m\u001b[0;34m]\u001b[0m\u001b[0;34m=\u001b[0m\u001b[0;36m10\u001b[0m   \u001b[0;31m# throw an Error,because 'tuple' does not support item assingnment.\u001b[0m\u001b[0;34m\u001b[0m\u001b[0;34m\u001b[0m\u001b[0m\n\u001b[0m\u001b[1;32m     18\u001b[0m \u001b[0mprint\u001b[0m\u001b[0;34m(\u001b[0m\u001b[0;34m\"My Modified Tuple 2:\"\u001b[0m\u001b[0;34m,\u001b[0m\u001b[0mmy_tuple\u001b[0m\u001b[0;34m)\u001b[0m\u001b[0;34m\u001b[0m\u001b[0;34m\u001b[0m\u001b[0m\n",
            "\u001b[0;31mTypeError\u001b[0m: 'tuple' object does not support item assignment"
          ]
        }
      ]
    },
    {
      "cell_type": "code",
      "source": [
        "# 7. Write a function to demonstrate the behavior of mutable and immutable arguments.\n",
        " # for mutable argument.\n",
        "my_set={1,2,3,4,5}\n",
        "print(\"My orginal set:\",my_set)\n",
        "my_set.add(10)\n",
        "print(\"My Modified set 1:\",my_set)\n",
        "my_set.remove(2)\n",
        "print(\"My Modified set 2:\",my_set)\n",
        "\n",
        "# for immutable argument.\n",
        "my_str=\"pwskill\"\n",
        "print(\"My orginal string:\",my_str)\n",
        "my_str[0]=\"S\" # throw an Error,because 'tuple' does not support item assingnment.\n",
        "print(\"My Modified string:\",my_str)\n",
        "\n"
      ],
      "metadata": {
        "colab": {
          "base_uri": "https://localhost:8080/",
          "height": 280
        },
        "id": "hsXLrUXyDs5B",
        "outputId": "2e26658b-dac7-42fa-f808-cd31c8870039"
      },
      "execution_count": 21,
      "outputs": [
        {
          "output_type": "stream",
          "name": "stdout",
          "text": [
            "My orginal set: {1, 2, 3, 4, 5}\n",
            "My Modified set 1: {1, 2, 3, 4, 5, 10}\n",
            "My Modified set 2: {1, 3, 4, 5, 10}\n",
            "My orginal string: pwskill\n"
          ]
        },
        {
          "output_type": "error",
          "ename": "TypeError",
          "evalue": "'str' object does not support item assignment",
          "traceback": [
            "\u001b[0;31m---------------------------------------------------------------------------\u001b[0m",
            "\u001b[0;31mTypeError\u001b[0m                                 Traceback (most recent call last)",
            "\u001b[0;32m<ipython-input-21-e33c5cf976dc>\u001b[0m in \u001b[0;36m<cell line: 0>\u001b[0;34m()\u001b[0m\n\u001b[1;32m     11\u001b[0m \u001b[0mmy_str\u001b[0m\u001b[0;34m=\u001b[0m\u001b[0;34m\"pwskill\"\u001b[0m\u001b[0;34m\u001b[0m\u001b[0;34m\u001b[0m\u001b[0m\n\u001b[1;32m     12\u001b[0m \u001b[0mprint\u001b[0m\u001b[0;34m(\u001b[0m\u001b[0;34m\"My orginal string:\"\u001b[0m\u001b[0;34m,\u001b[0m\u001b[0mmy_str\u001b[0m\u001b[0;34m)\u001b[0m\u001b[0;34m\u001b[0m\u001b[0;34m\u001b[0m\u001b[0m\n\u001b[0;32m---> 13\u001b[0;31m \u001b[0mmy_str\u001b[0m\u001b[0;34m[\u001b[0m\u001b[0;36m0\u001b[0m\u001b[0;34m]\u001b[0m\u001b[0;34m=\u001b[0m\u001b[0;34m\"S\"\u001b[0m \u001b[0;31m# throw an Error,because 'tuple' does not support item assingnment.\u001b[0m\u001b[0;34m\u001b[0m\u001b[0;34m\u001b[0m\u001b[0m\n\u001b[0m\u001b[1;32m     14\u001b[0m \u001b[0mprint\u001b[0m\u001b[0;34m(\u001b[0m\u001b[0;34m\"My Modified string:\"\u001b[0m\u001b[0;34m,\u001b[0m\u001b[0mmy_str\u001b[0m\u001b[0;34m)\u001b[0m\u001b[0;34m\u001b[0m\u001b[0;34m\u001b[0m\u001b[0m\n\u001b[1;32m     15\u001b[0m \u001b[0;34m\u001b[0m\u001b[0m\n",
            "\u001b[0;31mTypeError\u001b[0m: 'str' object does not support item assignment"
          ]
        }
      ]
    },
    {
      "cell_type": "code",
      "source": [
        "# 8. Write a program to demonstrate the use of logical operators.\n",
        "x=True\n",
        "y=False\n",
        "print(\"x and y:\",x and y) # True if both conditions are True.\n",
        "print(\"x or y:\",x or y)    # True if at least one condition is True.\n",
        "print(\"not x:\",not x)     # Inverts the boolean value."
      ],
      "metadata": {
        "colab": {
          "base_uri": "https://localhost:8080/"
        },
        "id": "b_LdAR0MGHwj",
        "outputId": "2c3defd5-85ef-4999-ba85-4fbfb814a46b"
      },
      "execution_count": 23,
      "outputs": [
        {
          "output_type": "stream",
          "name": "stdout",
          "text": [
            "x and y: False\n",
            "x or y: True\n",
            "not x: False\n"
          ]
        }
      ]
    },
    {
      "cell_type": "code",
      "source": [
        "# 9.  Write a Python program to convert user input from string to integer, float, and boolean types.\n",
        "\n",
        "user_input = input(\"Enter a number: \")\n",
        "\n",
        "int_value = int(user_input)\n",
        "float_value = float(user_input)\n",
        "bool_value = bool(user_input)\n",
        "\n",
        "print(\"Integer:\", int_value)\n",
        "print(\"Float:\", float_value)\n",
        "print(\"Boolean:\", bool_value)\n",
        "\n",
        "# OR\n",
        "\n",
        "str_input = input(\"Enter a string: \")\n",
        "int_output = int(str_input)           # Throw a Error\n",
        "float_output = float(str_input)       # Throw a Error\n",
        "bool_output = bool(str_input)         # Throw a Error"
      ],
      "metadata": {
        "colab": {
          "base_uri": "https://localhost:8080/",
          "height": 297
        },
        "id": "hAiAal21Hff_",
        "outputId": "12c06d8c-3e6b-4430-9193-93bf2b582ed2"
      },
      "execution_count": 25,
      "outputs": [
        {
          "name": "stdout",
          "output_type": "stream",
          "text": [
            "Enter a number: 10\n",
            "Integer: 10\n",
            "Float: 10.0\n",
            "Boolean: True\n",
            "Enter a string: pwskill\n"
          ]
        },
        {
          "output_type": "error",
          "ename": "ValueError",
          "evalue": "invalid literal for int() with base 10: 'pwskill'",
          "traceback": [
            "\u001b[0;31m---------------------------------------------------------------------------\u001b[0m",
            "\u001b[0;31mValueError\u001b[0m                                Traceback (most recent call last)",
            "\u001b[0;32m<ipython-input-25-e1543894b6cb>\u001b[0m in \u001b[0;36m<cell line: 0>\u001b[0;34m()\u001b[0m\n\u001b[1;32m     14\u001b[0m \u001b[0;34m\u001b[0m\u001b[0m\n\u001b[1;32m     15\u001b[0m \u001b[0mstr_input\u001b[0m \u001b[0;34m=\u001b[0m \u001b[0minput\u001b[0m\u001b[0;34m(\u001b[0m\u001b[0;34m\"Enter a string: \"\u001b[0m\u001b[0;34m)\u001b[0m\u001b[0;34m\u001b[0m\u001b[0;34m\u001b[0m\u001b[0m\n\u001b[0;32m---> 16\u001b[0;31m \u001b[0mint_output\u001b[0m \u001b[0;34m=\u001b[0m \u001b[0mint\u001b[0m\u001b[0;34m(\u001b[0m\u001b[0mstr_input\u001b[0m\u001b[0;34m)\u001b[0m\u001b[0;34m\u001b[0m\u001b[0;34m\u001b[0m\u001b[0m\n\u001b[0m\u001b[1;32m     17\u001b[0m \u001b[0mfloat_output\u001b[0m \u001b[0;34m=\u001b[0m \u001b[0mfloat\u001b[0m\u001b[0;34m(\u001b[0m\u001b[0mstr_input\u001b[0m\u001b[0;34m)\u001b[0m\u001b[0;34m\u001b[0m\u001b[0;34m\u001b[0m\u001b[0m\n\u001b[1;32m     18\u001b[0m \u001b[0mbool_output\u001b[0m \u001b[0;34m=\u001b[0m \u001b[0mbool\u001b[0m\u001b[0;34m(\u001b[0m\u001b[0mstr_input\u001b[0m\u001b[0;34m)\u001b[0m\u001b[0;34m\u001b[0m\u001b[0;34m\u001b[0m\u001b[0m\n",
            "\u001b[0;31mValueError\u001b[0m: invalid literal for int() with base 10: 'pwskill'"
          ]
        }
      ]
    },
    {
      "cell_type": "code",
      "source": [
        "# 10. Write code to demonstrate type casting with list elements.\n",
        "my_list = [1, 2, 3, 4, 5]\n",
        "# Convert to integers\n",
        "int_list = [int(i) for i in my_list]\n",
        "print(\"Integer list:\", int_list)\n",
        "\n",
        "# Convert to floats\n",
        "float_list = [float(i) for i in my_list]\n",
        "print(\"Float list:\", float_list)"
      ],
      "metadata": {
        "colab": {
          "base_uri": "https://localhost:8080/"
        },
        "id": "qp45SuFjIziu",
        "outputId": "0555f009-57eb-47ff-a79c-47ab161b039c"
      },
      "execution_count": 26,
      "outputs": [
        {
          "output_type": "stream",
          "name": "stdout",
          "text": [
            "Integer list: [1, 2, 3, 4, 5]\n",
            "Float list: [1.0, 2.0, 3.0, 4.0, 5.0]\n"
          ]
        }
      ]
    },
    {
      "cell_type": "code",
      "source": [
        "# 11.  Write a program that checks if a number is positive, negative, or zero.\n",
        "x=int(input(\"Enter a number:\"))\n",
        "if x>0:\n",
        "  print(\"Number is positive\")\n",
        "elif x<0:\n",
        "  print(\"Number is negative\")\n",
        "else:\n",
        "  print(\"Number is zero\")"
      ],
      "metadata": {
        "colab": {
          "base_uri": "https://localhost:8080/"
        },
        "id": "e87bXvMSJhYP",
        "outputId": "79844768-e707-4f7a-ab8f-0e58fb14cd04"
      },
      "execution_count": 27,
      "outputs": [
        {
          "output_type": "stream",
          "name": "stdout",
          "text": [
            "Enter a number:2\n",
            "Number is positive\n"
          ]
        }
      ]
    },
    {
      "cell_type": "code",
      "source": [
        "# 12.  Write a for loop to print numbers from 1 to 10.\n",
        "for i in range(1,11):\n",
        "  print(i)"
      ],
      "metadata": {
        "colab": {
          "base_uri": "https://localhost:8080/"
        },
        "id": "GRD2UjnAJ1JX",
        "outputId": "8d4ea1cc-7b18-4512-f301-f5d83ed12197"
      },
      "execution_count": 30,
      "outputs": [
        {
          "output_type": "stream",
          "name": "stdout",
          "text": [
            "1\n",
            "2\n",
            "3\n",
            "4\n",
            "5\n",
            "6\n",
            "7\n",
            "8\n",
            "9\n",
            "10\n"
          ]
        }
      ]
    },
    {
      "cell_type": "code",
      "source": [
        "# 13. Write a Python program to find the sum of all even numbers between 1 and 50.\n",
        "sum_even=sum(i for i in range(1,51) if i%2==0)\n",
        "print(\"Sum of even numbers between 1 and 50:\",sum_even)"
      ],
      "metadata": {
        "colab": {
          "base_uri": "https://localhost:8080/"
        },
        "id": "RYgN5j1kKHeQ",
        "outputId": "6faed6d7-2700-4879-ec7c-7d3f952ad059"
      },
      "execution_count": 31,
      "outputs": [
        {
          "output_type": "stream",
          "name": "stdout",
          "text": [
            "Sum of even numbers between 1 and 50: 650\n"
          ]
        }
      ]
    },
    {
      "cell_type": "code",
      "source": [
        "# 14.  Write a program to reverse a string using a while loop.\n",
        "string = input(\"Enter a string: \")\n",
        "reversed_string = \"\"\n",
        "i = len(string) - 1\n",
        "\n",
        "while i >= 0:\n",
        "    reversed_string += string[i]\n",
        "    i -= 1\n",
        "\n",
        "print(\"Reversed string:\", reversed_string)"
      ],
      "metadata": {
        "colab": {
          "base_uri": "https://localhost:8080/"
        },
        "id": "QzDqzAjnLSUh",
        "outputId": "33ddee7f-05f3-4de6-ca7a-84938d27732b"
      },
      "execution_count": 32,
      "outputs": [
        {
          "output_type": "stream",
          "name": "stdout",
          "text": [
            "Enter a string: Sourav\n",
            "Reversed string: varuoS\n"
          ]
        }
      ]
    },
    {
      "cell_type": "code",
      "source": [
        "#. 15  Write a Python program to calculate the factorial of a number provided by the user using a while loop.\n",
        "num = int(input(\"Enter a number: \"))\n",
        "factorial = 1\n",
        "i = 1\n",
        "\n",
        "while i <= num:\n",
        "    factorial *= i\n",
        "    i += 1\n",
        "\n",
        "print(\"Factorial of\", num, \"is\", factorial)"
      ],
      "metadata": {
        "colab": {
          "base_uri": "https://localhost:8080/"
        },
        "id": "SzFTqs-_Lxuu",
        "outputId": "0fa4b5ec-2f1d-431f-e4ba-9ba5bd55ee27"
      },
      "execution_count": 33,
      "outputs": [
        {
          "output_type": "stream",
          "name": "stdout",
          "text": [
            "Enter a number: 5\n",
            "Factorial of 5 is 120\n"
          ]
        }
      ]
    }
  ]
}